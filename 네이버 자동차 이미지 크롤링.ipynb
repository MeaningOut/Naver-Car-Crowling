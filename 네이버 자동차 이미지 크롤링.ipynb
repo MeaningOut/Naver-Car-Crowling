{
 "cells": [
  {
   "cell_type": "code",
   "execution_count": 1,
   "metadata": {},
   "outputs": [],
   "source": [
    "import os\n",
    "\n",
    "def download_img(img_url, big_title, img_name):\n",
    "    dir_name = 'images/' + big_title\n",
    "    \n",
    "    try:\n",
    "        if not os.path.exists(dir_name):\n",
    "            os.makedirs(dir_name)\n",
    "        req.urlretrieve(img_url, dir_name + '/' + img_name + '.jpg')\n",
    "    except Exception as e:\n",
    "        print(e)"
   ]
  },
  {
   "cell_type": "code",
   "execution_count": 196,
   "metadata": {},
   "outputs": [
    {
     "name": "stdout",
     "output_type": "stream",
     "text": [
      "모델명 : 2020 아반떼 \n",
      "회사 : 현대 \n",
      "원산지 : 국산\n",
      "차종 : 준중형\n",
      "\n"
     ]
    }
   ],
   "source": [
    "from bs4 import BeautifulSoup\n",
    "import urllib.request as req\n",
    "\n",
    "car_url = 'https://auto.naver.com/car/main.nhn?yearsId=138007'\n",
    "\n",
    "# url open()으로 데이터 가져오기\n",
    "res = req.urlopen(car_url)\n",
    "\n",
    "# HTML 분석하기\n",
    "soup = BeautifulSoup(res, 'html.parser')\n",
    "\n",
    "# 모델명, 회사, 원산지, 차종\n",
    "car_name = soup.select_one('#container > div.spot_end.new_end > div.info_group > div.end_model > h3').string\n",
    "car_company = soup.select_one('#container > div.spot_end.new_end > div.info_group > span > a.brand').string\n",
    "car_origin = soup.select_one('#container > div.spot_end.new_end > div.info_group > span > a.location').string\n",
    "car_type = soup.select_one('#container > div.spot_end.new_end > div.info_group > span > a.weight').string\n",
    "print(\"모델명 : {} \\n회사 : {} \\n원산지 : {}\\n차종 : {}\\n\".format(car_name, car_company, car_origin, car_type))"
   ]
  },
  {
   "cell_type": "code",
   "execution_count": 214,
   "metadata": {
    "scrolled": true
   },
   "outputs": [
    {
     "name": "stdout",
     "output_type": "stream",
     "text": [
      "라인업 idx :  0\n",
      "라인업 idx :  1\n",
      "라인업 idx :  2\n",
      "라인업 idx :  3\n",
      "라인다운 idx :  0\n",
      "라인다운 idx :  1\n",
      "라인다운 idx :  2\n",
      "라인다운 idx :  3\n",
      "라인다운 idx :  4\n"
     ]
    },
    {
     "data": {
      "text/plain": [
       "[['2020 아반떼',\n",
       "  '1.6 가솔린',\n",
       "  15700000,\n",
       "  24530000,\n",
       "  '현대',\n",
       "  '국산',\n",
       "  '준중형',\n",
       "  'I4',\n",
       "  '자연흡기',\n",
       "  '1,598cc',\n",
       "  '가솔린',\n",
       "  '수동14.4km/ℓ (2등급)\\nCVT14.9~15.4km/ℓ (2등급)',\n",
       "  '5인승',\n",
       "  '전륜구동',\n",
       "  '수동6단,자동(CVT)'],\n",
       " ['2020 아반떼',\n",
       "  '1.6 LPi',\n",
       "  18550000,\n",
       "  22230000,\n",
       "  '현대',\n",
       "  '국산',\n",
       "  '준중형',\n",
       "  'I4',\n",
       "  '자연흡기',\n",
       "  '1,591cc',\n",
       "  'LPG',\n",
       "  '자동10.5~10.6km/ℓ (4등급)\\n\\xa0',\n",
       "  '5인승',\n",
       "  '전륜구동',\n",
       "  '자동6단'],\n",
       " ['2020 아반떼',\n",
       "  '장애인용',\n",
       "  21190000,\n",
       "  21440000,\n",
       "  '현대',\n",
       "  '국산',\n",
       "  '준중형',\n",
       "  'I4',\n",
       "  '자연흡기',\n",
       "  '1,591cc',\n",
       "  'LPG',\n",
       "  '자동10.5km/ℓ (4등급)\\n\\xa0',\n",
       "  '5인승',\n",
       "  '전륜구동',\n",
       "  '자동6단'],\n",
       " ['2020 아반떼',\n",
       "  'N라인',\n",
       "  21790000,\n",
       "  27790000,\n",
       "  '현대',\n",
       "  '국산',\n",
       "  '준중형',\n",
       "  'I4',\n",
       "  '싱글터보',\n",
       "  '1,598cc',\n",
       "  '가솔린',\n",
       "  '수동12.3km/ℓ (3등급)\\nDCT12.8km/ℓ (3등급)',\n",
       "  '5인승',\n",
       "  '전륜구동',\n",
       "  '수동6단,자동(DCT)7단']]"
      ]
     },
     "execution_count": 214,
     "metadata": {},
     "output_type": "execute_result"
    }
   ],
   "source": [
    "avante_2020_url = 'https://auto.naver.com/car/lineup.nhn?yearsId=138007'\n",
    "\n",
    "# url open()으로 데이터 가져오기\n",
    "res = req.urlopen('https://auto.naver.com/car/main.nhn?yearsId=138007')\n",
    "\n",
    "# HTML 분석하기\n",
    "soup = BeautifulSoup(res, 'html.parser')\n",
    "\n",
    "# 모델명, 회사, 원산지, 차종\n",
    "big_title = soup.select_one('#container > div.spot_end.new_end > div.info_group > div.end_model > h3').string\n",
    "company = soup.select_one('#container > div.spot_end.new_end > div.info_group > span > a.brand').string\n",
    "origin = soup.select_one('#container > div.spot_end.new_end > div.info_group > span > a.location').string\n",
    "car_type = soup.select_one('#container > div.spot_end.new_end > div.info_group > span > a.weight').string\n",
    "\n",
    "get_car_list(avante_2020_url, big_title, company, origin, car_type)"
   ]
  },
  {
   "cell_type": "code",
   "execution_count": 246,
   "metadata": {},
   "outputs": [
    {
     "name": "stdout",
     "output_type": "stream",
     "text": [
      "140041\n",
      "141783\n",
      "140897\n",
      "136883\n",
      "129719\n",
      "141535\n",
      "138261\n",
      "141287\n",
      "136029\n",
      "125863\n",
      "143267\n",
      "144387\n",
      "129721\n",
      "142305\n",
      "134425\n"
     ]
    }
   ],
   "source": [
    "car_url = 'https://auto.naver.com/car/carKindType.nhn?carKndCd=1&importYn=N&page=1'\n",
    "\n",
    "# url open()으로 데이터 가져오기\n",
    "res = req.urlopen(car_url)\n",
    "\n",
    "#content > div.model_group_new > ul > li:nth-child(1) > div > div > a.model_name\n",
    "\n",
    "soup = BeautifulSoup(res, 'html.parser')\n",
    "\n",
    "links = soup.select('.model_name')\n",
    "for l in links:\n",
    "    href = l['href']\n",
    "    tmp = href.find('yearsId=')\n",
    "    print(href[tmp:].replace('yearsId=', ''))"
   ]
  },
  {
   "cell_type": "markdown",
   "metadata": {},
   "source": [
    "# 크롤링"
   ]
  },
  {
   "cell_type": "code",
   "execution_count": 2,
   "metadata": {},
   "outputs": [],
   "source": [
    "from bs4 import BeautifulSoup\n",
    "import urllib.request as req\n",
    "from selenium import webdriver\n",
    "import time\n",
    "\n",
    "def get_car_images(yearsId):\n",
    "    try:\n",
    "        image_url = \"https://auto.naver.com/car/image.nhn?yearsId=\" + yearsId\n",
    "        driver.get(image_url)\n",
    "    \n",
    "        res = req.urlopen(image_url)\n",
    "        soup = BeautifulSoup(res, 'html.parser')\n",
    "    \n",
    "        big_title = soup.select_one('#container > div.end_tit_area > div > h3').get_text()\n",
    "        print(big_title)\n",
    "    except:\n",
    "        return []\n",
    "\n",
    "    links = []\n",
    "    try:\n",
    "        for i in range(11, 16):\n",
    "            img = driver.find_element_by_xpath('//*[@id=\"container\"]/div[5]/div/div/ul/li[2]/img')\n",
    "\n",
    "            if (img.get_attribute('src').startswith('https://imgauto-phinf.pstatic.net')):\n",
    "                links.append(img.get_attribute('src'))\n",
    "\n",
    "            driver.find_element_by_xpath('//*[@id=\"container\"]/div[5]/div/a[2]/div').click()\n",
    "            time.sleep(1)\n",
    "    except:\n",
    "        print(big_title, links)\n",
    "        return [big_title, links]\n",
    "    \n",
    "    return [big_title, links]"
   ]
  },
  {
   "cell_type": "code",
   "execution_count": 107,
   "metadata": {},
   "outputs": [
    {
     "name": "stdout",
     "output_type": "stream",
     "text": [
      "2021 K8\n"
     ]
    },
    {
     "data": {
      "text/plain": [
       "['2021 K8',\n",
       " ['https://imgauto-phinf.pstatic.net/20210408_70/auto_1617841792991dVckv_JPEG/20210408092949_YjDPUjhi.jpg?type=f980_654',\n",
       "  'https://imgauto-phinf.pstatic.net/20210408_236/auto_1617841793592M5taY_JPEG/20210408092949_0C1GInfq.jpg?type=f980_654',\n",
       "  'https://imgauto-phinf.pstatic.net/20210408_15/auto_1617841800321XH8km_JPEG/20210408092952_UBW3zV1b.jpg?type=f980_654',\n",
       "  'https://imgauto-phinf.pstatic.net/20210408_164/auto_16178418405611JReO_JPEG/20210408093029_sUL3kjKD.jpg?type=f980_654',\n",
       "  'https://imgauto-phinf.pstatic.net/20210408_86/auto_1617841835920KPWGL_JPEG/20210408093026_B1f51UGD.jpg?type=f980_654']]"
      ]
     },
     "execution_count": 107,
     "metadata": {},
     "output_type": "execute_result"
    }
   ],
   "source": [
    "get_car_images('144093')"
   ]
  },
  {
   "cell_type": "code",
   "execution_count": 3,
   "metadata": {},
   "outputs": [],
   "source": [
    "def get_ids(car_url):\n",
    "    res = req.urlopen(car_url)\n",
    "    soup = BeautifulSoup(res, 'html.parser')\n",
    "\n",
    "    value = []\n",
    "    \n",
    "    # yearsId 찾기\n",
    "    links = soup.select('.model_name')\n",
    "    for l in links:\n",
    "        href = l['href']\n",
    "        tmp = href.find('yearsId=')\n",
    "        #print(href[tmp:].replace('yearsId=', ''))\n",
    "        \n",
    "        value.append(href[tmp:].replace('yearsId=', ''))\n",
    "        \n",
    "    return value"
   ]
  },
  {
   "cell_type": "code",
   "execution_count": 6,
   "metadata": {
    "scrolled": true
   },
   "outputs": [
    {
     "name": "stdout",
     "output_type": "stream",
     "text": [
      "https://auto.naver.com/car/mainList.nhn\n",
      "2021 K8\n",
      "2021 GV70\n",
      "2021 스타리아\n",
      "2020 아반떼\n",
      "2022 K3\n",
      "2021 아이오닉 5\n",
      "2021 셀토스\n",
      "2021 투싼\n",
      "2021 K5\n",
      "2020 쏘렌토\n",
      "2021 카니발\n",
      "2020 팰리세이드\n",
      "2020 GV80\n",
      "2020 그랜저\n",
      "2021 G70\n",
      "https://auto.naver.com/car/mainList.nhn?page=2\n",
      "2020 G80\n",
      "2020 싼타페\n",
      "2021 베뉴\n",
      "2021 EV6\n",
      "2021 EV6 GT\n",
      "2021 코나\n",
      "2021 투싼 하이브리드\n",
      "2021 쏘나타\n",
      "2021 G90\n",
      "2021 렉스턴 스포츠 칸\n",
      "2020 쏘렌토 하이브리드\n",
      "2020 XM3\n",
      "2022 K3 GT\n",
      "2021 스팅어\n",
      "2021 스포티지\n",
      "https://auto.naver.com/car/mainList.nhn?page=3\n",
      "2021 QM6\n",
      "2021 코나 하이브리드\n",
      "2020 레이\n",
      "2021 모하비\n",
      "2021 싼타크루즈\n",
      "2021 모닝\n",
      "2021 일렉트리파이드 G80\n",
      "2021 렉스턴\n",
      "2019 니로 하이브리드\n",
      "2021 넥쏘\n",
      "2021 K9\n",
      "2021 쏘나타 하이브리드\n",
      "2021 K5 하이브리드\n",
      "2021 카니발 하이리무진\n",
      "2020 아반떼 하이브리드\n",
      "https://auto.naver.com/car/mainList.nhn?page=4\n",
      "2021 G90L\n",
      "2021 렉스턴 스포츠\n",
      "2021 마이브 M1\n",
      "2020 그랜저 하이브리드\n",
      "2021 티볼리 에어\n",
      "2020 티볼리\n",
      "2021 포터2\n",
      "2021 SM6\n",
      "2020 코란도\n",
      "2021 디피코 포트로 EV 픽업\n",
      "2020 벨로스터 N\n",
      "2019 쏠라티\n",
      "2020 봉고3\n",
      "2021 캠시스 CEVO-C SE\n",
      "2020 텔루라이드\n",
      "https://auto.naver.com/car/mainList.nhn?page=5\n",
      "2018 니로 EV\n",
      "2021 바이욘\n",
      "2020 포터2 일렉트릭\n",
      "2020 i30\n",
      "2020 밍투\n",
      "2020 밍투 ['https://imgauto-phinf.pstatic.net/20201120_241/auto_1605859307794tEm5f_JPEG/20201120170145_O8eiqA54.jpg?type=f980_654', 'https://imgauto-phinf.pstatic.net/20201120_262/auto_1605859306544TNQAR_JPEG/20201120170145_4HALpYa4.jpg?type=f980_654']\n",
      "2020 SMART EV Z\n",
      "2020 봉고3 EV\n",
      "2021 디피코 포트로 EV 탑\n",
      "2020 i10\n",
      "2019 대창모터스 다니고 III 밴\n",
      "2021 코나 일렉트릭\n",
      "2019 니로 플러그인 하이브리드\n",
      "2019 대창모터스 다니고 III 픽업\n",
      "2020 i30 N\n",
      "https://auto.naver.com/car/mainList.nhn?page=6\n",
      "2020 SMART EV D2P\n",
      "2020 SMART EV D2P ['https://imgauto-phinf.pstatic.net/20200602_122/auto_1591075347487rGU6P_JPEG/20200602142226_iP2XJIfN.jpg?type=f980_654', 'https://imgauto-phinf.pstatic.net/20200602_22/auto_1591075350100mJwOM_JPEG/20200602142227_oPgTVRD3.jpg?type=f980_654', 'https://imgauto-phinf.pstatic.net/20200602_246/auto_1591074447729pi6Sp_JPEG/20200602140727_RSyklLGX.jpg?type=f980_654', 'https://imgauto-phinf.pstatic.net/20200602_168/auto_1591074515442NE22r_JPEG/20200602140834_C3ySCJX9.jpg?type=f980_654']\n",
      "2020 라페스타 EV\n",
      "2021 투싼 플러그인 하이브리드\n",
      "2020 크레타\n",
      "2020 SMART EV D2C\n",
      "2020 밍투 일렉트릭\n",
      "2020 밍투 일렉트릭 ['https://imgauto-phinf.pstatic.net/20201120_202/auto_1605859684631L0eCB_JPEG/20201120170803_CDjcRssV.jpg?type=f980_654']\n",
      "2021 i20 N\n",
      "2020 프로씨드\n",
      "2020 i30 패스트백\n",
      "2021 리오 해치백\n",
      "2020 i30 왜건\n",
      "2020 X씨드 플러그인 하이브리드\n",
      "2020 X씨드\n",
      "2020 씨드 SW 플러그인 하이브리드\n"
     ]
    }
   ],
   "source": [
    "driver = webdriver.Chrome(\"C:/Users/jeewo/Downloads/chromedriver_win32/chromedriver.exe\")\n",
    "driver.get('https://auto.naver.com/car/mainList.nhn')\n",
    "\n",
    "car_image_data = []\n",
    "\n",
    "while True:\n",
    "    cur = driver.current_url\n",
    "    print(cur)\n",
    "    \n",
    "    ids = get_ids(cur)\n",
    "    \n",
    "    for i in ids:\n",
    "        tmp = get_car_images(i)\n",
    "        if len(tmp) > 0:\n",
    "            car_image_data.append(tmp)\n",
    "    driver.get(cur)\n",
    "\n",
    "    # 다음 버튼 클릭\n",
    "    if driver.find_elements_by_css_selector('#content > div.paginate2 > a.next'):\n",
    "        driver.find_element_by_css_selector('#content > div.paginate2 > a.next').click()\n",
    "    else:\n",
    "        break\n",
    "\n",
    "driver.close()"
   ]
  },
  {
   "cell_type": "code",
   "execution_count": 144,
   "metadata": {},
   "outputs": [
    {
     "name": "stdout",
     "output_type": "stream",
     "text": [
      "2021 지프 컴패스\n"
     ]
    }
   ],
   "source": [
    "driver = webdriver.Chrome(\"C:/Users/jeewo/Downloads/chromedriver_win32/chromedriver.exe\")\n",
    "car_image_data.append(get_car_images('144911'))\n",
    "driver.close()"
   ]
  },
  {
   "cell_type": "code",
   "execution_count": 7,
   "metadata": {},
   "outputs": [
    {
     "name": "stdout",
     "output_type": "stream",
     "text": [
      "88\n"
     ]
    }
   ],
   "source": [
    "print(len(car_image_data))"
   ]
  },
  {
   "cell_type": "code",
   "execution_count": 8,
   "metadata": {},
   "outputs": [],
   "source": [
    "from pandas import DataFrame\n",
    "\n",
    "columns = ['big_title', 'image_links']\n",
    "\n",
    "df = DataFrame(car_image_data, columns=columns)\n",
    "\n",
    "file_name = 'naver_korea_cars_images.csv'\n",
    "df.to_csv(file_name, index=False, mode='w', encoding='utf-8-sig')"
   ]
  },
  {
   "cell_type": "code",
   "execution_count": 118,
   "metadata": {},
   "outputs": [
    {
     "data": {
      "text/html": [
       "<div>\n",
       "<style scoped>\n",
       "    .dataframe tbody tr th:only-of-type {\n",
       "        vertical-align: middle;\n",
       "    }\n",
       "\n",
       "    .dataframe tbody tr th {\n",
       "        vertical-align: top;\n",
       "    }\n",
       "\n",
       "    .dataframe thead th {\n",
       "        text-align: right;\n",
       "    }\n",
       "</style>\n",
       "<table border=\"1\" class=\"dataframe\">\n",
       "  <thead>\n",
       "    <tr style=\"text-align: right;\">\n",
       "      <th></th>\n",
       "      <th>big_title</th>\n",
       "      <th>image_links</th>\n",
       "    </tr>\n",
       "  </thead>\n",
       "  <tbody>\n",
       "    <tr>\n",
       "      <th>0</th>\n",
       "      <td>2021 벤츠 G클래스</td>\n",
       "      <td>['https://ssl.pstatic.net/static/common/blank....</td>\n",
       "    </tr>\n",
       "    <tr>\n",
       "      <th>1</th>\n",
       "      <td>2021 벤츠 E클래스</td>\n",
       "      <td>['https://imgauto-phinf.pstatic.net/20200304_1...</td>\n",
       "    </tr>\n",
       "    <tr>\n",
       "      <th>2</th>\n",
       "      <td>2021 포르쉐 파나메라</td>\n",
       "      <td>['https://imgauto-phinf.pstatic.net/20210225_1...</td>\n",
       "    </tr>\n",
       "    <tr>\n",
       "      <th>3</th>\n",
       "      <td>2021 테슬라 모델3</td>\n",
       "      <td>['https://imgauto-phinf.pstatic.net/20210215_1...</td>\n",
       "    </tr>\n",
       "  </tbody>\n",
       "</table>\n",
       "</div>"
      ],
      "text/plain": [
       "       big_title                                        image_links\n",
       "0   2021 벤츠 G클래스  ['https://ssl.pstatic.net/static/common/blank....\n",
       "1   2021 벤츠 E클래스  ['https://imgauto-phinf.pstatic.net/20200304_1...\n",
       "2  2021 포르쉐 파나메라  ['https://imgauto-phinf.pstatic.net/20210225_1...\n",
       "3   2021 테슬라 모델3  ['https://imgauto-phinf.pstatic.net/20210215_1..."
      ]
     },
     "execution_count": 118,
     "metadata": {},
     "output_type": "execute_result"
    }
   ],
   "source": [
    "import pandas as pd\n",
    "\n",
    "df222 = pd.read_csv(file_name, encoding='utf-8-sig')\n",
    "df222"
   ]
  }
 ],
 "metadata": {
  "kernelspec": {
   "display_name": "Python 3",
   "language": "python",
   "name": "python3"
  },
  "language_info": {
   "codemirror_mode": {
    "name": "ipython",
    "version": 3
   },
   "file_extension": ".py",
   "mimetype": "text/x-python",
   "name": "python",
   "nbconvert_exporter": "python",
   "pygments_lexer": "ipython3",
   "version": "3.7.9"
  }
 },
 "nbformat": 4,
 "nbformat_minor": 4
}
